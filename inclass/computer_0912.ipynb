{
  "nbformat": 4,
  "nbformat_minor": 0,
  "metadata": {
    "colab": {
      "provenance": [],
      "authorship_tag": "ABX9TyNXhrNWC8EKdHUsA3cUbabk",
      "include_colab_link": true
    },
    "kernelspec": {
      "name": "python3",
      "display_name": "Python 3"
    },
    "language_info": {
      "name": "python"
    }
  },
  "cells": [
    {
      "cell_type": "markdown",
      "metadata": {
        "id": "view-in-github",
        "colab_type": "text"
      },
      "source": [
        "<a href=\"https://colab.research.google.com/github/syejin2004/computer_vision/blob/main/inclass/computer_0912.ipynb\" target=\"_parent\"><img src=\"https://colab.research.google.com/assets/colab-badge.svg\" alt=\"Open In Colab\"/></a>"
      ]
    },
    {
      "cell_type": "code",
      "source": [
        "#프로그래밍 실습 문제 1\n",
        "\n",
        "import numpy as np\n",
        "import torch\n",
        "\n",
        "torch_tensor = torch.rand(3, 4)\n",
        "print(torch_tensor)\n",
        "\n",
        "print( )\n",
        "\n",
        "torch_tensor[:, 1] = 0\n",
        "print(torch_tensor)\n",
        "\n",
        "print( )\n",
        "\n",
        "sum_along_axis0_torch = torch.sum(torch_tensor, dim=0)\n",
        "print(sum_along_axis0_torch)\n",
        "\n",
        "print( )\n",
        "\n",
        "sum_torch = torch.sum(torch_tensor)\n",
        "print(sum_torch)"
      ],
      "metadata": {
        "colab": {
          "base_uri": "https://localhost:8080/"
        },
        "id": "fKtYx4txBbcw",
        "outputId": "46dfa034-b642-4419-dcaa-292b599f4784"
      },
      "execution_count": null,
      "outputs": [
        {
          "output_type": "stream",
          "name": "stdout",
          "text": [
            "tensor([[0.4514, 0.9951, 0.5967, 0.2087],\n",
            "        [0.7509, 0.2630, 0.2079, 0.3201],\n",
            "        [0.7857, 0.6045, 0.7563, 0.5658]])\n",
            "\n",
            "tensor([[0.4514, 0.0000, 0.5967, 0.2087],\n",
            "        [0.7509, 0.0000, 0.2079, 0.3201],\n",
            "        [0.7857, 0.0000, 0.7563, 0.5658]])\n",
            "\n",
            "tensor([1.9881, 0.0000, 1.5609, 1.0947])\n",
            "\n",
            "tensor(4.6436)\n"
          ]
        }
      ]
    },
    {
      "cell_type": "code",
      "source": [
        "#프로그래밍 실습 문제2\n",
        "import numpy as np\n",
        "import torch\n",
        "\n",
        "torch_tensor = torch.rand(5, 5)\n",
        "print(torch_tensor)\n",
        "\n",
        "print( )\n",
        "\n",
        "bigger_tensor = torch_tensor[torch_tensor > 0.5]\n",
        "print(bigger_tensor)"
      ],
      "metadata": {
        "colab": {
          "base_uri": "https://localhost:8080/"
        },
        "id": "X5j-k3ToEEhK",
        "outputId": "12a9a244-936f-44bd-c25f-5b5624295b10"
      },
      "execution_count": null,
      "outputs": [
        {
          "output_type": "stream",
          "name": "stdout",
          "text": [
            "tensor([[0.9322, 0.8279, 0.4869, 0.4205, 0.5757],\n",
            "        [0.5291, 0.8327, 0.9154, 0.9780, 0.4958],\n",
            "        [0.0207, 0.3007, 0.2578, 0.6380, 0.3871],\n",
            "        [0.3285, 0.8057, 0.7146, 0.7062, 0.0650],\n",
            "        [0.5896, 0.2998, 0.1676, 0.6777, 0.2045]])\n",
            "\n",
            "tensor([0.9322, 0.8279, 0.5757, 0.5291, 0.8327, 0.9154, 0.9780, 0.6380, 0.8057,\n",
            "        0.7146, 0.7062, 0.5896, 0.6777])\n"
          ]
        }
      ]
    },
    {
      "cell_type": "code",
      "source": [
        "#프로그래밍 실습 문제3\n",
        "import numpy as np\n",
        "import torch\n",
        "\n",
        "random_np = np.random.rand(4, 4)\n",
        "print(random_np)\n",
        "\n",
        "print( )\n",
        "\n",
        "torch_tensor = torch.tensor(random_np, dtype=torch.float32)\n",
        "print(torch_tensor)\n",
        "\n",
        "print( )\n",
        "\n",
        "torch.save(torch_tensor, 'torch_tensor.pt')\n",
        "\n",
        "loaded_tensor = torch.load('torch_tensor.pt')\n",
        "print(loaded_tensor)\n",
        "\n",
        "print( )\n",
        "\n",
        "if torch.equal(torch_tensor, loaded_tensor):\n",
        "    print(\"원본 텐서와 동일하다.\")\n",
        "else:\n",
        "    print(\"원본 텐서와 동일하지 않다.\")"
      ],
      "metadata": {
        "colab": {
          "base_uri": "https://localhost:8080/"
        },
        "id": "FtHD5z7cEx0w",
        "outputId": "c0bd071b-175b-4555-bd19-855357955c3a"
      },
      "execution_count": null,
      "outputs": [
        {
          "output_type": "stream",
          "name": "stdout",
          "text": [
            "[[0.86887755 0.90066007 0.85373679 0.48025028]\n",
            " [0.37772635 0.47829711 0.05316738 0.13174265]\n",
            " [0.22625523 0.5212341  0.34556532 0.07544793]\n",
            " [0.70774229 0.66392389 0.90244832 0.64850469]]\n",
            "\n",
            "tensor([[0.8689, 0.9007, 0.8537, 0.4803],\n",
            "        [0.3777, 0.4783, 0.0532, 0.1317],\n",
            "        [0.2263, 0.5212, 0.3456, 0.0754],\n",
            "        [0.7077, 0.6639, 0.9024, 0.6485]])\n",
            "\n",
            "tensor([[0.8689, 0.9007, 0.8537, 0.4803],\n",
            "        [0.3777, 0.4783, 0.0532, 0.1317],\n",
            "        [0.2263, 0.5212, 0.3456, 0.0754],\n",
            "        [0.7077, 0.6639, 0.9024, 0.6485]])\n",
            "\n",
            "원본 텐서와 동일하다.\n"
          ]
        },
        {
          "output_type": "stream",
          "name": "stderr",
          "text": [
            "<ipython-input-51-802c7fdae70c>:17: FutureWarning: You are using `torch.load` with `weights_only=False` (the current default value), which uses the default pickle module implicitly. It is possible to construct malicious pickle data which will execute arbitrary code during unpickling (See https://github.com/pytorch/pytorch/blob/main/SECURITY.md#untrusted-models for more details). In a future release, the default value for `weights_only` will be flipped to `True`. This limits the functions that could be executed during unpickling. Arbitrary objects will no longer be allowed to be loaded via this mode unless they are explicitly allowlisted by the user via `torch.serialization.add_safe_globals`. We recommend you start setting `weights_only=True` for any use case where you don't have full control of the loaded file. Please open an issue on GitHub for any issues related to this experimental feature.\n",
            "  loaded_tensor = torch.load('torch_tensor.pt')\n"
          ]
        }
      ]
    }
  ]
}